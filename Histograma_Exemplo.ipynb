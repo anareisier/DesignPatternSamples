{
  "nbformat": 4,
  "nbformat_minor": 0,
  "metadata": {
    "colab": {
      "name": "Histograma_Exemplo.ipynb",
      "provenance": [],
      "authorship_tag": "ABX9TyPBJ0F/hNNHZVNcqQ4w6kCe",
      "include_colab_link": true
    },
    "kernelspec": {
      "name": "python3",
      "display_name": "Python 3"
    },
    "language_info": {
      "name": "python"
    }
  },
  "cells": [
    {
      "cell_type": "markdown",
      "metadata": {
        "id": "view-in-github",
        "colab_type": "text"
      },
      "source": [
        "<a href=\"https://colab.research.google.com/github/anareisier/DesignPatternSamples/blob/main/Histograma_Exemplo.ipynb\" target=\"_parent\"><img src=\"https://colab.research.google.com/assets/colab-badge.svg\" alt=\"Open In Colab\"/></a>"
      ]
    },
    {
      "cell_type": "code",
      "metadata": {
        "colab": {
          "base_uri": "https://localhost:8080/",
          "height": 302
        },
        "id": "3AZsxr7cErcX",
        "outputId": "ff79be57-e8b3-4844-c7fa-de5dfefeec2e"
      },
      "source": [
        "import matplotlib.pyplot as plt \n",
        "import numpy as np\n",
        "\n",
        "#Valores determinados\n",
        "  #values = [0, 0.3, 1.1, 1.4, 2.0, 2.5, 2.8, 3.4, 3.7, 4.0, 4.3, 5.8, 10] # valores pré definidos\n",
        "  #plt.hist(values, bins=6) # gera o gráfico com os valores pré definidos // bins quantidade de barras\n",
        "\n",
        "#valores aleatórios usando a biblioteca numpy\n",
        "  #n = 5+ np.random.randn(60) # gera números aleatórios\n",
        "  #plt.hist(n, bins=15) # gera o gráfico com os valores aleatórios\n",
        "\n",
        "#plt.show() #exibir o gráficos\n",
        "#print(n) #exibe os valores aleatórios gerados\n",
        "\n",
        "\n",
        "#valores de PLD DIA 1\n",
        "pldD1= [1.21583333333333,2.14833333333333,4.43416666666667,8.79333333333333,15.2558333333333,13.2266666666667,16.8041666666667,23.5808333333333,16.0275,16.6816666666667,16.2908333333333,12.2216666666667,8.3425,5.51083333333333,4.7,4.25916666666667,2.80083333333333,3.3825,8.22,9.38916666666667,9.55583333333333,11.3233333333333,9.96666666666667,11.8766666666667]\n",
        "plt.hist(pldD1, bins=len(pldD1))\n",
        "\n",
        "plt.show()\n",
        "print(pldD1)"
      ],
      "execution_count": 3,
      "outputs": [
        {
          "output_type": "display_data",
          "data": {
            "image/png": "[encoded data removed]",
            "text/plain": [
              "<Figure size 432x288 with 1 Axes>"
            ]
          },
          "metadata": {
            "needs_background": "light"
          }
        },
        {
          "output_type": "stream",
          "name": "stdout",
          "text": [
            "[1.21583333333333, 2.14833333333333, 4.43416666666667, 8.79333333333333, 15.2558333333333, 13.2266666666667, 16.8041666666667, 23.5808333333333, 16.0275, 16.6816666666667, 16.2908333333333, 12.2216666666667, 8.3425, 5.51083333333333, 4.7, 4.25916666666667, 2.80083333333333, 3.3825, 8.22, 9.38916666666667, 9.55583333333333, 11.3233333333333, 9.96666666666667, 11.8766666666667]\n"
          ]
        }
      ]
    }
  ]
}